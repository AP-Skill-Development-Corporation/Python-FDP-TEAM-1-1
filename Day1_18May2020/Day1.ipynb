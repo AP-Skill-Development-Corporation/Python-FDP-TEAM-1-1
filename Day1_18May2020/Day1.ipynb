{
  "nbformat": 4,
  "nbformat_minor": 0,
  "metadata": {
    "colab": {
      "name": "Day1.ipynb",
      "provenance": [],
      "collapsed_sections": []
    },
    "kernelspec": {
      "name": "python3",
      "display_name": "Python 3"
    }
  },
  "cells": [
    {
      "cell_type": "code",
      "metadata": {
        "id": "MKOFm8hqEGVz",
        "colab_type": "code",
        "outputId": "9ccf91a9-d13e-4c8c-cf79-2f9468cd0f55",
        "colab": {
          "base_uri": "https://localhost:8080/",
          "height": 34
        }
      },
      "source": [
        "print(\"Hello everyone\")"
      ],
      "execution_count": 0,
      "outputs": [
        {
          "output_type": "stream",
          "text": [
            "Hello everyone\n"
          ],
          "name": "stdout"
        }
      ]
    },
    {
      "cell_type": "code",
      "metadata": {
        "id": "tN10YLblGkma",
        "colab_type": "code",
        "outputId": "0b0168ee-b79c-4f9d-9226-bcc29608d7a9",
        "colab": {
          "base_uri": "https://localhost:8080/",
          "height": 34
        }
      },
      "source": [
        "print(\"hi\")"
      ],
      "execution_count": 0,
      "outputs": [
        {
          "output_type": "stream",
          "text": [
            "hi\n"
          ],
          "name": "stdout"
        }
      ]
    },
    {
      "cell_type": "markdown",
      "metadata": {
        "id": "5naoimamGwXJ",
        "colab_type": "text"
      },
      "source": [
        ""
      ]
    },
    {
      "cell_type": "code",
      "metadata": {
        "id": "htUwfeZ0GxSr",
        "colab_type": "code",
        "colab": {}
      },
      "source": [
        ""
      ],
      "execution_count": 0,
      "outputs": []
    },
    {
      "cell_type": "markdown",
      "metadata": {
        "id": "-kMktQ8aHOS8",
        "colab_type": "text"
      },
      "source": [
        "# Heading1\n",
        "## Heading2\n",
        "### Heading3\n",
        "###### Head6\n",
        "\n",
        "\n",
        "\n",
        "Today **learning** python\n",
        "\n",
        "I am in *italic*\n",
        "\n",
        "\n",
        "* Java\n",
        "* Python\n",
        "  * v1.0\n",
        "  * v3.8\n",
        "\n",
        "\n",
        "\n",
        "[clickMe](https://www.google.com)\n",
        "\n",
        "![alternatext](https://www.python.org/static/img/python-logo.png)\n",
        "\n",
        "\n",
        "```javascript\n",
        "function fancyAlert(arg) {\n",
        "  if(arg) {\n",
        "    $.facebox({div:'#foo'})\n",
        "  }\n",
        "}\n",
        "```\n"
      ]
    },
    {
      "cell_type": "markdown",
      "metadata": {
        "id": "quFF9rfBK5GF",
        "colab_type": "text"
      },
      "source": [
        "### Python Keywords\n"
      ]
    },
    {
      "cell_type": "code",
      "metadata": {
        "id": "ELNnEhzHHvZx",
        "colab_type": "code",
        "outputId": "0a6bbeaf-9602-4c6e-f657-0049207eab2e",
        "colab": {
          "base_uri": "https://localhost:8080/",
          "height": 578
        }
      },
      "source": [
        "import keyword\n",
        "keyword.kwlist"
      ],
      "execution_count": 0,
      "outputs": [
        {
          "output_type": "execute_result",
          "data": {
            "text/plain": [
              "['False',\n",
              " 'None',\n",
              " 'True',\n",
              " 'and',\n",
              " 'as',\n",
              " 'assert',\n",
              " 'break',\n",
              " 'class',\n",
              " 'continue',\n",
              " 'def',\n",
              " 'del',\n",
              " 'elif',\n",
              " 'else',\n",
              " 'except',\n",
              " 'finally',\n",
              " 'for',\n",
              " 'from',\n",
              " 'global',\n",
              " 'if',\n",
              " 'import',\n",
              " 'in',\n",
              " 'is',\n",
              " 'lambda',\n",
              " 'nonlocal',\n",
              " 'not',\n",
              " 'or',\n",
              " 'pass',\n",
              " 'raise',\n",
              " 'return',\n",
              " 'try',\n",
              " 'while',\n",
              " 'with',\n",
              " 'yield']"
            ]
          },
          "metadata": {
            "tags": []
          },
          "execution_count": 45
        }
      ]
    },
    {
      "cell_type": "markdown",
      "metadata": {
        "id": "37XTPq3QLtMU",
        "colab_type": "text"
      },
      "source": [
        "# Identifiers\n",
        "  Identifier is a name given to the variable,classes ,functions.\n",
        "\n",
        "\n",
        "**Rules**\n",
        "*  identifier should start with either alphabets or _(underscore)\n",
        "*  identifier accepts numbers also\n",
        "* it can not contain spaces and special symbols\n"
      ]
    },
    {
      "cell_type": "code",
      "metadata": {
        "id": "ghAsXle9MMfz",
        "colab_type": "code",
        "outputId": "007baa0a-e6d8-4961-c74e-81ea346f31fe",
        "colab": {
          "base_uri": "https://localhost:8080/",
          "height": 129
        }
      },
      "source": [
        "var1 = 20\n",
        "first name = \"python\""
      ],
      "execution_count": 0,
      "outputs": [
        {
          "output_type": "error",
          "ename": "SyntaxError",
          "evalue": "ignored",
          "traceback": [
            "\u001b[0;36m  File \u001b[0;32m\"<ipython-input-46-e90a51bded86>\"\u001b[0;36m, line \u001b[0;32m2\u001b[0m\n\u001b[0;31m    first name = \"python\"\u001b[0m\n\u001b[0m             ^\u001b[0m\n\u001b[0;31mSyntaxError\u001b[0m\u001b[0;31m:\u001b[0m invalid syntax\n"
          ]
        }
      ]
    },
    {
      "cell_type": "code",
      "metadata": {
        "id": "RoP3yAGoM2yI",
        "colab_type": "code",
        "colab": {}
      },
      "source": [
        "_firstName = \"python\""
      ],
      "execution_count": 0,
      "outputs": []
    },
    {
      "cell_type": "markdown",
      "metadata": {
        "id": "O0X5JwLVNFkQ",
        "colab_type": "text"
      },
      "source": [
        "## Variables and data types\n",
        "   named memory location to store the value\n"
      ]
    },
    {
      "cell_type": "code",
      "metadata": {
        "id": "bP2OgPPyNDxs",
        "colab_type": "code",
        "colab": {}
      },
      "source": [
        "firstName = 10\n",
        "\n",
        "print(firstName)"
      ],
      "execution_count": 0,
      "outputs": []
    },
    {
      "cell_type": "code",
      "metadata": {
        "id": "ZhLlJ_bqNpsW",
        "colab_type": "code",
        "colab": {}
      },
      "source": [
        "type(firstName)"
      ],
      "execution_count": 0,
      "outputs": []
    },
    {
      "cell_type": "markdown",
      "metadata": {
        "id": "_ssP96fROCj-",
        "colab_type": "text"
      },
      "source": [
        "## Datatypes\n",
        "  1. Numbers (int,float,complex)\n",
        "  2. Characters (Str)\n",
        "  3. True,False  (bool)\n",
        "  "
      ]
    },
    {
      "cell_type": "code",
      "metadata": {
        "id": "WBmDa8ZUOAfc",
        "colab_type": "code",
        "colab": {}
      },
      "source": [
        "number = 10\n",
        "print(number, type(number))\n",
        "number = 10.5\n",
        "\n",
        "print(number,type(number))\n"
      ],
      "execution_count": 0,
      "outputs": []
    },
    {
      "cell_type": "markdown",
      "metadata": {
        "id": "LMn4pI_rPIsr",
        "colab_type": "text"
      },
      "source": [
        "### Operators in python\n",
        "     special symbols to complete special task\n",
        "\n",
        "\n",
        "#### Arthematic operators\n",
        "     + , -, *, / ,// , %, **"
      ]
    },
    {
      "cell_type": "code",
      "metadata": {
        "id": "beKat9EhPFJn",
        "colab_type": "code",
        "colab": {}
      },
      "source": [
        "print(10 + 20)"
      ],
      "execution_count": 0,
      "outputs": []
    },
    {
      "cell_type": "code",
      "metadata": {
        "id": "fseRiYXOP6kA",
        "colab_type": "code",
        "colab": {}
      },
      "source": [
        "print(10.50-9)"
      ],
      "execution_count": 0,
      "outputs": []
    },
    {
      "cell_type": "code",
      "metadata": {
        "id": "tiLV_HvGQCYa",
        "colab_type": "code",
        "colab": {}
      },
      "source": [
        "print(10*2)"
      ],
      "execution_count": 0,
      "outputs": []
    },
    {
      "cell_type": "code",
      "metadata": {
        "id": "OcQcJ_nJQjr1",
        "colab_type": "code",
        "colab": {}
      },
      "source": [
        "print(9/2)"
      ],
      "execution_count": 0,
      "outputs": []
    },
    {
      "cell_type": "markdown",
      "metadata": {
        "id": "mpesPhroRDmV",
        "colab_type": "text"
      },
      "source": [
        "2)9(4\n",
        "  8\n",
        "  ---\n",
        "  1"
      ]
    },
    {
      "cell_type": "code",
      "metadata": {
        "id": "HOo-lOI6Qp6T",
        "colab_type": "code",
        "colab": {}
      },
      "source": [
        "print(9//2)"
      ],
      "execution_count": 0,
      "outputs": []
    },
    {
      "cell_type": "code",
      "metadata": {
        "id": "lpJNBdXzQxNy",
        "colab_type": "code",
        "colab": {}
      },
      "source": [
        "print(9%2)"
      ],
      "execution_count": 0,
      "outputs": []
    },
    {
      "cell_type": "code",
      "metadata": {
        "id": "k9WQEbCRQ2ws",
        "colab_type": "code",
        "colab": {}
      },
      "source": [
        "print(2**3) # 2 power 3"
      ],
      "execution_count": 0,
      "outputs": []
    },
    {
      "cell_type": "code",
      "metadata": {
        "id": "AshFTWjiROjb",
        "colab_type": "code",
        "colab": {}
      },
      "source": [
        ""
      ],
      "execution_count": 0,
      "outputs": []
    },
    {
      "cell_type": "markdown",
      "metadata": {
        "id": "qBWYkjAbRdCB",
        "colab_type": "text"
      },
      "source": [
        "### Assignment Operators\n",
        "= , += , -=, *= , /= ,//=, %= , **="
      ]
    },
    {
      "cell_type": "code",
      "metadata": {
        "id": "ism9VNOqRpY7",
        "colab_type": "code",
        "colab": {}
      },
      "source": [
        "number = 10\n",
        "print(number)"
      ],
      "execution_count": 0,
      "outputs": []
    },
    {
      "cell_type": "code",
      "metadata": {
        "id": "NenOjlfWRwlM",
        "colab_type": "code",
        "colab": {}
      },
      "source": [
        "print(number) # 10\n",
        "number += 2 # number = number + 2  \n",
        "\n",
        "print(number)\n"
      ],
      "execution_count": 0,
      "outputs": []
    },
    {
      "cell_type": "code",
      "metadata": {
        "id": "yiXWHccTR921",
        "colab_type": "code",
        "colab": {}
      },
      "source": [
        "print(number) # 12\n",
        "number -= 4  # number = number- 4\n",
        "print(number) # 8"
      ],
      "execution_count": 0,
      "outputs": []
    },
    {
      "cell_type": "code",
      "metadata": {
        "id": "bGem3Ij7SOKI",
        "colab_type": "code",
        "colab": {}
      },
      "source": [
        "number = 10\n",
        "print(number) # 10\n",
        "number *= 5  # number = number * 5\n",
        "print(number) #50"
      ],
      "execution_count": 0,
      "outputs": []
    },
    {
      "cell_type": "code",
      "metadata": {
        "id": "4MfN6ncATB2l",
        "colab_type": "code",
        "colab": {}
      },
      "source": [
        ""
      ],
      "execution_count": 0,
      "outputs": []
    },
    {
      "cell_type": "markdown",
      "metadata": {
        "id": "AcFgBi0VTLd7",
        "colab_type": "text"
      },
      "source": [
        "### Comparision Operators\n",
        "  == , < , > , <=   , >= , !=  "
      ]
    },
    {
      "cell_type": "code",
      "metadata": {
        "id": "9aSTgmW8Tc3K",
        "colab_type": "code",
        "colab": {}
      },
      "source": [
        "print(2 == 3)"
      ],
      "execution_count": 0,
      "outputs": []
    },
    {
      "cell_type": "code",
      "metadata": {
        "id": "NE9DLitnTlHE",
        "colab_type": "code",
        "colab": {}
      },
      "source": [
        "print(2!=3)"
      ],
      "execution_count": 0,
      "outputs": []
    },
    {
      "cell_type": "code",
      "metadata": {
        "id": "aA2PTsqYTpHW",
        "colab_type": "code",
        "colab": {}
      },
      "source": [
        "print(2 < 3)"
      ],
      "execution_count": 0,
      "outputs": []
    },
    {
      "cell_type": "code",
      "metadata": {
        "id": "-sCvOXAJTucK",
        "colab_type": "code",
        "colab": {}
      },
      "source": [
        "print(2 <= 3)"
      ],
      "execution_count": 0,
      "outputs": []
    },
    {
      "cell_type": "code",
      "metadata": {
        "id": "e0JS6Q9rTzWl",
        "colab_type": "code",
        "colab": {}
      },
      "source": [
        "print(3>=2)"
      ],
      "execution_count": 0,
      "outputs": []
    },
    {
      "cell_type": "code",
      "metadata": {
        "id": "4TjUevSZT3_a",
        "colab_type": "code",
        "colab": {}
      },
      "source": [
        ""
      ],
      "execution_count": 0,
      "outputs": []
    },
    {
      "cell_type": "markdown",
      "metadata": {
        "id": "FHxhCq7YUNLG",
        "colab_type": "text"
      },
      "source": [
        "### Logical operators\n",
        " and , or, not"
      ]
    },
    {
      "cell_type": "markdown",
      "metadata": {
        "id": "DE8BmK40UCmf",
        "colab_type": "text"
      },
      "source": [
        ""
      ]
    },
    {
      "cell_type": "code",
      "metadata": {
        "id": "QvKrzWaRUV00",
        "colab_type": "code",
        "colab": {}
      },
      "source": [
        "condition1 = 2 < 3  # True\n",
        "condition2 = 2 > 3  # False\n",
        "var = None\n",
        "print(condition1 and condition2,var)"
      ],
      "execution_count": 0,
      "outputs": []
    },
    {
      "cell_type": "code",
      "metadata": {
        "id": "VLvT179bUrtw",
        "colab_type": "code",
        "outputId": "fbd1182e-ac05-41ad-ba9c-9784d6fa6b41",
        "colab": {
          "base_uri": "https://localhost:8080/",
          "height": 34
        }
      },
      "source": [
        "print(10,20,30)"
      ],
      "execution_count": 0,
      "outputs": [
        {
          "output_type": "stream",
          "text": [
            "10 20 30\n"
          ],
          "name": "stdout"
        }
      ]
    },
    {
      "cell_type": "code",
      "metadata": {
        "id": "J5e6pJEcVXmg",
        "colab_type": "code",
        "outputId": "29459945-5aee-4df6-89a3-70c6062476fb",
        "colab": {
          "base_uri": "https://localhost:8080/",
          "height": 34
        }
      },
      "source": [
        "print(condition1 or condition2 )"
      ],
      "execution_count": 0,
      "outputs": [
        {
          "output_type": "stream",
          "text": [
            "True\n"
          ],
          "name": "stdout"
        }
      ]
    },
    {
      "cell_type": "code",
      "metadata": {
        "id": "oqobR2OtVmmB",
        "colab_type": "code",
        "outputId": "dad6ab8a-3194-4429-ee50-a2d43d4e68be",
        "colab": {
          "base_uri": "https://localhost:8080/",
          "height": 34
        }
      },
      "source": [
        "print(not True)"
      ],
      "execution_count": 0,
      "outputs": [
        {
          "output_type": "stream",
          "text": [
            "False\n"
          ],
          "name": "stdout"
        }
      ]
    },
    {
      "cell_type": "code",
      "metadata": {
        "id": "v7dghgqAVtbE",
        "colab_type": "code",
        "outputId": "7ba6bc57-d83c-4da0-d5ac-6a81c0d87250",
        "colab": {
          "base_uri": "https://localhost:8080/",
          "height": 34
        }
      },
      "source": [
        "print(not False)"
      ],
      "execution_count": 0,
      "outputs": [
        {
          "output_type": "stream",
          "text": [
            "True\n"
          ],
          "name": "stdout"
        }
      ]
    },
    {
      "cell_type": "code",
      "metadata": {
        "id": "En-u-0P-Vvcs",
        "colab_type": "code",
        "colab": {}
      },
      "source": [
        ""
      ],
      "execution_count": 0,
      "outputs": []
    },
    {
      "cell_type": "markdown",
      "metadata": {
        "id": "52mJWdeBWk1-",
        "colab_type": "text"
      },
      "source": [
        "### Bitwise operators\n",
        "*   & (bitwise and)\n",
        "* | (bitwise or)\n",
        "*  ~ (bitwise not)\n",
        "*  ^ (bitwise xor)\n",
        "*  **>> (bitwise right shift)**\n",
        "* << (bitwise left shit)"
      ]
    },
    {
      "cell_type": "code",
      "metadata": {
        "id": "S5FZmWo4W-Cd",
        "colab_type": "code",
        "outputId": "ed3ebe7e-80e0-43a8-d3c9-1c7eb1291214",
        "colab": {
          "base_uri": "https://localhost:8080/",
          "height": 34
        }
      },
      "source": [
        "a = 10\n",
        "b = 11\n",
        "\n",
        "print(a & b)"
      ],
      "execution_count": 0,
      "outputs": [
        {
          "output_type": "stream",
          "text": [
            "10\n"
          ],
          "name": "stdout"
        }
      ]
    },
    {
      "cell_type": "code",
      "metadata": {
        "id": "t6JHoeJpXHBr",
        "colab_type": "code",
        "outputId": "924f10c1-04ee-45f5-9f40-5a764f31361e",
        "colab": {
          "base_uri": "https://localhost:8080/",
          "height": 34
        }
      },
      "source": [
        "print( a | b )"
      ],
      "execution_count": 0,
      "outputs": [
        {
          "output_type": "stream",
          "text": [
            "11\n"
          ],
          "name": "stdout"
        }
      ]
    },
    {
      "cell_type": "code",
      "metadata": {
        "id": "gFGMDPwLXX5m",
        "colab_type": "code",
        "outputId": "1a8bac15-fb54-46b4-c7fa-deac59178e71",
        "colab": {
          "base_uri": "https://localhost:8080/",
          "height": 34
        }
      },
      "source": [
        "print(~ 10)"
      ],
      "execution_count": 0,
      "outputs": [
        {
          "output_type": "stream",
          "text": [
            "-11\n"
          ],
          "name": "stdout"
        }
      ]
    },
    {
      "cell_type": "markdown",
      "metadata": {
        "id": "KbfGg5LUXshA",
        "colab_type": "text"
      },
      "source": [
        "~ a\n",
        "a = 10\n",
        "\n",
        "result = -a -1   = -10-1 =-11\n",
        "\n",
        "\n"
      ]
    },
    {
      "cell_type": "code",
      "metadata": {
        "id": "kGmJZ_0_XkYE",
        "colab_type": "code",
        "outputId": "a1cd8e0a-7334-40ad-8fb2-4a7b98e7aab1",
        "colab": {
          "base_uri": "https://localhost:8080/",
          "height": 34
        }
      },
      "source": [
        "print(~ 20)"
      ],
      "execution_count": 0,
      "outputs": [
        {
          "output_type": "stream",
          "text": [
            "-21\n"
          ],
          "name": "stdout"
        }
      ]
    },
    {
      "cell_type": "code",
      "metadata": {
        "id": "-7TFmCDKX5g5",
        "colab_type": "code",
        "outputId": "66eec87b-4d57-4d2c-fb61-18cb17978c76",
        "colab": {
          "base_uri": "https://localhost:8080/",
          "height": 34
        }
      },
      "source": [
        "print( a ^ b)"
      ],
      "execution_count": 0,
      "outputs": [
        {
          "output_type": "stream",
          "text": [
            "1\n"
          ],
          "name": "stdout"
        }
      ]
    },
    {
      "cell_type": "code",
      "metadata": {
        "id": "-R7OB3CsYcKc",
        "colab_type": "code",
        "outputId": "b60da631-cd90-41de-9a8d-93be56651ffe",
        "colab": {
          "base_uri": "https://localhost:8080/",
          "height": 34
        }
      },
      "source": [
        "print(10 >> 2)"
      ],
      "execution_count": 0,
      "outputs": [
        {
          "output_type": "stream",
          "text": [
            "2\n"
          ],
          "name": "stdout"
        }
      ]
    },
    {
      "cell_type": "code",
      "metadata": {
        "id": "a0TwqdmxYq5G",
        "colab_type": "code",
        "outputId": "e5bdcefa-dd33-46da-842e-eb11e1295829",
        "colab": {
          "base_uri": "https://localhost:8080/",
          "height": 34
        }
      },
      "source": [
        "print(10 << 2)"
      ],
      "execution_count": 0,
      "outputs": [
        {
          "output_type": "stream",
          "text": [
            "40\n"
          ],
          "name": "stdout"
        }
      ]
    },
    {
      "cell_type": "code",
      "metadata": {
        "id": "eeyHtPbBYztT",
        "colab_type": "code",
        "colab": {}
      },
      "source": [
        ""
      ],
      "execution_count": 0,
      "outputs": []
    },
    {
      "cell_type": "markdown",
      "metadata": {
        "id": "9YHFVgWHZFnF",
        "colab_type": "text"
      },
      "source": [
        "##  special operators\n",
        "    1. membership operators (in , not in)\n",
        "      to check particular member available in group of members.\n",
        "    2. identity operators (is , is not)\n"
      ]
    },
    {
      "cell_type": "code",
      "metadata": {
        "id": "uKcGyMGPZPuF",
        "colab_type": "code",
        "outputId": "8349501a-7d0d-4302-9445-b6ba58486579",
        "colab": {
          "base_uri": "https://localhost:8080/",
          "height": 34
        }
      },
      "source": [
        "name = \"python\"\n",
        "\n",
        "\n",
        "print('h' in name)"
      ],
      "execution_count": 0,
      "outputs": [
        {
          "output_type": "stream",
          "text": [
            "True\n"
          ],
          "name": "stdout"
        }
      ]
    },
    {
      "cell_type": "code",
      "metadata": {
        "id": "mn8mO5suZvzp",
        "colab_type": "code",
        "outputId": "7d7c09ec-548e-4a3a-addc-e408ec0ebf3c",
        "colab": {
          "base_uri": "https://localhost:8080/",
          "height": 34
        }
      },
      "source": [
        "print('H' in name)"
      ],
      "execution_count": 0,
      "outputs": [
        {
          "output_type": "stream",
          "text": [
            "False\n"
          ],
          "name": "stdout"
        }
      ]
    },
    {
      "cell_type": "code",
      "metadata": {
        "id": "OAdq54q7Zyhu",
        "colab_type": "code",
        "outputId": "fafc31b9-89a3-4507-b4e8-f36fa2db2823",
        "colab": {
          "base_uri": "https://localhost:8080/",
          "height": 34
        }
      },
      "source": [
        "print('H' not in name) # we get True if 'H' not in names else False"
      ],
      "execution_count": 0,
      "outputs": [
        {
          "output_type": "stream",
          "text": [
            "True\n"
          ],
          "name": "stdout"
        }
      ]
    },
    {
      "cell_type": "code",
      "metadata": {
        "id": "Z987IcpuZ6B1",
        "colab_type": "code",
        "colab": {}
      },
      "source": [
        ""
      ],
      "execution_count": 0,
      "outputs": []
    },
    {
      "cell_type": "markdown",
      "metadata": {
        "id": "n5dEy_b7a-HI",
        "colab_type": "text"
      },
      "source": [
        "#### Identity operators\n",
        "   to check both objects are same or not\n",
        "   \n",
        "     is , not"
      ]
    },
    {
      "cell_type": "code",
      "metadata": {
        "id": "8MUlR9dGbC-y",
        "colab_type": "code",
        "outputId": "69e41d92-9643-4a36-d0ac-fa1cd610ed8e",
        "colab": {
          "base_uri": "https://localhost:8080/",
          "height": 34
        }
      },
      "source": [
        "marks_student1 = [10,20,30]\n",
        "marks_student2 = [10,20,30]\n",
        "\n",
        "print(marks_student1 == marks_student2)\n"
      ],
      "execution_count": 0,
      "outputs": [
        {
          "output_type": "stream",
          "text": [
            "True\n"
          ],
          "name": "stdout"
        }
      ]
    },
    {
      "cell_type": "code",
      "metadata": {
        "id": "xQklaH39bZP7",
        "colab_type": "code",
        "outputId": "2e48c888-9c9f-4ff9-d630-b27b6b40ba7b",
        "colab": {
          "base_uri": "https://localhost:8080/",
          "height": 34
        }
      },
      "source": [
        "print(marks_student1 is marks_student2 )"
      ],
      "execution_count": 0,
      "outputs": [
        {
          "output_type": "stream",
          "text": [
            "False\n"
          ],
          "name": "stdout"
        }
      ]
    },
    {
      "cell_type": "code",
      "metadata": {
        "id": "x3M9T9eUbeGm",
        "colab_type": "code",
        "outputId": "a6c22040-0a23-4849-e26b-600d99fbe2d1",
        "colab": {
          "base_uri": "https://localhost:8080/",
          "height": 34
        }
      },
      "source": [
        "marks_student1 = [10,20,30]\n",
        "marks_student2 = marks_student1\n",
        "\n",
        "print(marks_student1 is marks_student2)"
      ],
      "execution_count": 0,
      "outputs": [
        {
          "output_type": "stream",
          "text": [
            "True\n"
          ],
          "name": "stdout"
        }
      ]
    },
    {
      "cell_type": "code",
      "metadata": {
        "id": "KiMcn6FbbpdP",
        "colab_type": "code",
        "colab": {}
      },
      "source": [
        ""
      ],
      "execution_count": 0,
      "outputs": []
    },
    {
      "cell_type": "markdown",
      "metadata": {
        "id": "tEInDo6GcbkG",
        "colab_type": "text"
      },
      "source": [
        "### Data type conversion\n",
        "   to convert one type from another type.\n",
        "   int(),  float(), str() , bool()"
      ]
    },
    {
      "cell_type": "code",
      "metadata": {
        "id": "UrgXYyFrcgqb",
        "colab_type": "code",
        "outputId": "e0f99ee9-d3fb-476a-92de-a56f9709e5e0",
        "colab": {
          "base_uri": "https://localhost:8080/",
          "height": 34
        }
      },
      "source": [
        "number = 10\n",
        "print(float(number))"
      ],
      "execution_count": 0,
      "outputs": [
        {
          "output_type": "stream",
          "text": [
            "10.0\n"
          ],
          "name": "stdout"
        }
      ]
    },
    {
      "cell_type": "code",
      "metadata": {
        "id": "p94b75O2dQTj",
        "colab_type": "code",
        "outputId": "a371a3f8-23fe-48de-d228-4aaba5233543",
        "colab": {
          "base_uri": "https://localhost:8080/",
          "height": 51
        }
      },
      "source": [
        "number = 123\n",
        "\n",
        "print(str(number)) # str(123)  return after conversion result\n",
        "number = str(number)\n",
        "\n",
        "print(type(number))\n"
      ],
      "execution_count": 0,
      "outputs": [
        {
          "output_type": "stream",
          "text": [
            "123\n",
            "<class 'str'>\n"
          ],
          "name": "stdout"
        }
      ]
    },
    {
      "cell_type": "markdown",
      "metadata": {
        "id": "vpMkJ8NJc5EJ",
        "colab_type": "text"
      },
      "source": [
        ""
      ]
    },
    {
      "cell_type": "markdown",
      "metadata": {
        "id": "GQ6E4VnKcaC-",
        "colab_type": "text"
      },
      "source": [
        ""
      ]
    },
    {
      "cell_type": "code",
      "metadata": {
        "id": "SOheqCG1dj61",
        "colab_type": "code",
        "outputId": "3caaef24-95e0-4ed9-acdc-ce0d6bc5c6f2",
        "colab": {
          "base_uri": "https://localhost:8080/",
          "height": 34
        }
      },
      "source": [
        "number = '123'\n",
        "\n",
        "\n",
        "print(int(number))"
      ],
      "execution_count": 0,
      "outputs": [
        {
          "output_type": "stream",
          "text": [
            "123\n"
          ],
          "name": "stdout"
        }
      ]
    },
    {
      "cell_type": "code",
      "metadata": {
        "id": "5Q5d8ZB_d1yE",
        "colab_type": "code",
        "outputId": "8c53f9ab-c878-4ae8-c539-39810f400c51",
        "colab": {
          "base_uri": "https://localhost:8080/",
          "height": 180
        }
      },
      "source": [
        "name = \"123python\"\n",
        "print(int(name))"
      ],
      "execution_count": 0,
      "outputs": [
        {
          "output_type": "error",
          "ename": "ValueError",
          "evalue": "ignored",
          "traceback": [
            "\u001b[0;31m---------------------------------------------------------------------------\u001b[0m",
            "\u001b[0;31mValueError\u001b[0m                                Traceback (most recent call last)",
            "\u001b[0;32m<ipython-input-76-30ac0d1d46dc>\u001b[0m in \u001b[0;36m<module>\u001b[0;34m()\u001b[0m\n\u001b[1;32m      1\u001b[0m \u001b[0mname\u001b[0m \u001b[0;34m=\u001b[0m \u001b[0;34m\"123python\"\u001b[0m\u001b[0;34m\u001b[0m\u001b[0;34m\u001b[0m\u001b[0m\n\u001b[0;32m----> 2\u001b[0;31m \u001b[0mprint\u001b[0m\u001b[0;34m(\u001b[0m\u001b[0mint\u001b[0m\u001b[0;34m(\u001b[0m\u001b[0mname\u001b[0m\u001b[0;34m)\u001b[0m\u001b[0;34m)\u001b[0m\u001b[0;34m\u001b[0m\u001b[0;34m\u001b[0m\u001b[0m\n\u001b[0m",
            "\u001b[0;31mValueError\u001b[0m: invalid literal for int() with base 10: '123python'"
          ]
        }
      ]
    },
    {
      "cell_type": "code",
      "metadata": {
        "id": "wkZVfDuTfvIP",
        "colab_type": "code",
        "outputId": "80b3125c-8e25-4802-93d3-8c45dcbc4d91",
        "colab": {
          "base_uri": "https://localhost:8080/",
          "height": 51
        }
      },
      "source": [
        "number = 123\n",
        "\n",
        "print(str(number))\n",
        "\n",
        "number = '123'\n",
        "\n",
        "print(type(number))\n"
      ],
      "execution_count": 0,
      "outputs": [
        {
          "output_type": "stream",
          "text": [
            "123\n",
            "<class 'str'>\n"
          ],
          "name": "stdout"
        }
      ]
    },
    {
      "cell_type": "code",
      "metadata": {
        "id": "RgQsMtSTg1h6",
        "colab_type": "code",
        "colab": {}
      },
      "source": [
        ""
      ],
      "execution_count": 0,
      "outputs": []
    },
    {
      "cell_type": "markdown",
      "metadata": {
        "id": "SD8lx2kGkUtY",
        "colab_type": "text"
      },
      "source": [
        "## http://bit.ly/apssdc-python-fdp1"
      ]
    },
    {
      "cell_type": "code",
      "metadata": {
        "id": "Jc1Qub7EkWRa",
        "colab_type": "code",
        "colab": {}
      },
      "source": [
        ""
      ],
      "execution_count": 0,
      "outputs": []
    }
  ]
}
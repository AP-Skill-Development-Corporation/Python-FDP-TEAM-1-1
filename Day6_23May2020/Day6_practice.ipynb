{
 "cells": [
  {
   "cell_type": "markdown",
   "metadata": {},
   "source": [
    "**Implement logic**\n",
    "    \n",
    "1. to find number of lines in file\n",
    "2. to find number of digits in a file\n",
    "3. to find which character repeated heighest number of times(heighest frequency of character)\n",
    "4. to form a largest number with available digits in file\n",
    "    ```\n",
    "        example\n",
    "            file contains 100 characters in that      1  0 5 4 3 2 1 7 are digits\n",
    "        output\n",
    "            75432110\n",
    "    ```"
   ]
  },
  {
   "cell_type": "code",
   "execution_count": null,
   "metadata": {},
   "outputs": [],
   "source": []
  },
  {
   "cell_type": "markdown",
   "metadata": {},
   "source": [
    "**display the student names who given invalid mobile numbers in contacts.txt**"
   ]
  },
  {
   "cell_type": "markdown",
   "metadata": {},
   "source": [
    "**contacts.txt**\n",
    "```\n",
    "ramu    9848022338\n",
    "vasu    98480223380\n",
    "kiran   7848022338\n",
    "supraja 2848022338\n",
    "```"
   ]
  },
  {
   "cell_type": "markdown",
   "metadata": {},
   "source": [
    "output\n",
    "```\n",
    "vasu\n",
    "supraja\n",
    "```"
   ]
  },
  {
   "cell_type": "code",
   "execution_count": null,
   "metadata": {},
   "outputs": [],
   "source": []
  },
  {
   "cell_type": "code",
   "execution_count": null,
   "metadata": {},
   "outputs": [],
   "source": []
  },
  {
   "cell_type": "markdown",
   "metadata": {},
   "source": [
    "**Implement logic to generate the students report from students.txt**"
   ]
  },
  {
   "cell_type": "markdown",
   "metadata": {},
   "source": [
    "**students.txt**\n",
    "```\n",
    "name    maths   english\n",
    "ramu    50      70\n",
    "vasu    70      60\n",
    "kiran   80      70\n",
    "supraja 50      50\n",
    "```\n"
   ]
  },
  {
   "cell_type": "markdown",
   "metadata": {},
   "source": [
    "**report.txt**\n",
    "```\n",
    "name    maths   english  Total\n",
    "ramu    50      70       120\n",
    "vasu    70      60       130\n",
    "kiran   80      70       150\n",
    "supraja 50      50       100\n",
    "```\n"
   ]
  },
  {
   "cell_type": "code",
   "execution_count": null,
   "metadata": {},
   "outputs": [],
   "source": []
  },
  {
   "cell_type": "code",
   "execution_count": null,
   "metadata": {},
   "outputs": [],
   "source": []
  },
  {
   "cell_type": "code",
   "execution_count": null,
   "metadata": {},
   "outputs": [],
   "source": []
  }
 ],
 "metadata": {
  "kernelspec": {
   "display_name": "Python 3",
   "language": "python",
   "name": "python3"
  },
  "language_info": {
   "codemirror_mode": {
    "name": "ipython",
    "version": 3
   },
   "file_extension": ".py",
   "mimetype": "text/x-python",
   "name": "python",
   "nbconvert_exporter": "python",
   "pygments_lexer": "ipython3",
   "version": "3.7.4"
  }
 },
 "nbformat": 4,
 "nbformat_minor": 2
}

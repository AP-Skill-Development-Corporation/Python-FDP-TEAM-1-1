{
 "cells": [
  {
   "cell_type": "markdown",
   "metadata": {},
   "source": [
    "**Find user given number is prime or not ?** \n",
    "```\n",
    "test case 1\n",
    "        number    13\n",
    "        output    True\n",
    "        \n",
    "test case 2\n",
    "        number    14\n",
    "        output    False\n",
    "```"
   ]
  },
  {
   "cell_type": "markdown",
   "metadata": {},
   "source": [
    "**Find factorial of user given number**\n",
    "```\n",
    "test case 1\n",
    "    number    5\n",
    "    output    120\n",
    "\n",
    "test case2\n",
    "    number    4\n",
    "    output    24\n",
    "```"
   ]
  },
  {
   "cell_type": "markdown",
   "metadata": {},
   "source": [
    "**Find sum of prime numbers between 10 and 40 (both are inclusive)**\n",
    "```\n",
    "primes between 10 to 40 are 11, 13, 17, 19, 23, 29, 31, 37\n",
    "and total of these 180(result)\n",
    "```"
   ]
  },
  {
   "cell_type": "markdown",
   "metadata": {},
   "source": [
    "**find sum of numbers in given string**\n",
    "```\n",
    "here numbers means continuous number word not individual digits\n",
    "\n",
    "sentence='every 1 has story released in 2020'\n",
    "for this sentences numberwords are 1, 2020\n",
    "\n",
    "result should be 1 + 2020 =2021\n",
    "```"
   ]
  },
  {
   "cell_type": "code",
   "execution_count": 31,
   "metadata": {},
   "outputs": [],
   "source": [
    "sentence='every 1 has story released in 2020'"
   ]
  },
  {
   "cell_type": "code",
   "execution_count": null,
   "metadata": {},
   "outputs": [],
   "source": []
  },
  {
   "cell_type": "markdown",
   "metadata": {},
   "source": [
    "**sort(descending order) the students list based on total marks of students**\n",
    "\n",
    "```\n",
    "students = [('sai',100),('ram',70),('lakshmi',90)]\n",
    "\n",
    "output\n",
    "    students = [('sai',100),('lakshmi',90),('ram',70)]\n",
    "```"
   ]
  },
  {
   "cell_type": "code",
   "execution_count": 36,
   "metadata": {},
   "outputs": [],
   "source": [
    "students = [('sai',100),('ram',70),('lakshmi',90)]\n",
    "\n",
    "\n",
    "# result ===>  [('sai',100),('lakshmi',90),('ram',70),]"
   ]
  },
  {
   "cell_type": "code",
   "execution_count": null,
   "metadata": {},
   "outputs": [],
   "source": []
  },
  {
   "cell_type": "code",
   "execution_count": null,
   "metadata": {},
   "outputs": [],
   "source": []
  }
 ],
 "metadata": {
  "kernelspec": {
   "display_name": "Python 3",
   "language": "python",
   "name": "python3"
  },
  "language_info": {
   "codemirror_mode": {
    "name": "ipython",
    "version": 3
   },
   "file_extension": ".py",
   "mimetype": "text/x-python",
   "name": "python",
   "nbconvert_exporter": "python",
   "pygments_lexer": "ipython3",
   "version": "3.7.4"
  }
 },
 "nbformat": 4,
 "nbformat_minor": 2
}

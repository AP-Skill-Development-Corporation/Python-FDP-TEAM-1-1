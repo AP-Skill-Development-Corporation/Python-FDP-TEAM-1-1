{
 "cells": [
  {
   "cell_type": "markdown",
   "metadata": {},
   "source": [
    "**Find how many number of unique characters in given name**\n",
    "```\n",
    "test case 1\n",
    "        input    python\n",
    "        output   6\n",
    "test case 2\n",
    "        input    pythonprogramming\n",
    "        output   11\n",
    "```"
   ]
  },
  {
   "cell_type": "markdown",
   "metadata": {},
   "source": [
    "**find common characters betwen two persons**\n",
    "```\n",
    "test case 1\n",
    "               \n",
    "        input1    python\n",
    "        input2    program\n",
    "        \n",
    "        output   {'o','p'}\n",
    "\n",
    "\n",
    "test case 2\n",
    "\n",
    "        input1   veena\n",
    "        input2   lakshmi\n",
    "        \n",
    "        output {'a'}\n",
    "```"
   ]
  },
  {
   "cell_type": "code",
   "execution_count": null,
   "metadata": {},
   "outputs": [],
   "source": []
  },
  {
   "cell_type": "markdown",
   "metadata": {},
   "source": [
    "**find the students who are not participating in engineersday**\n",
    "\n",
    "```\n",
    "result = {'rajini','lakshman','vasu'}\n",
    "```"
   ]
  },
  {
   "cell_type": "code",
   "execution_count": 13,
   "metadata": {},
   "outputs": [],
   "source": [
    "participants_for_engineers_day = ['ramu','srinu','roja']\n",
    "students_total = ['ramu','rajini','lakshman','srinu','vasu','roja']"
   ]
  },
  {
   "cell_type": "code",
   "execution_count": null,
   "metadata": {},
   "outputs": [],
   "source": []
  },
  {
   "cell_type": "markdown",
   "metadata": {},
   "source": [
    "**Find the student name and total marks of that student who got heighest marks in given details**"
   ]
  },
  {
   "cell_type": "code",
   "execution_count": 15,
   "metadata": {},
   "outputs": [],
   "source": [
    "students = (('ram',50,60),('syam',70,60),('divya',40,30))\n",
    "\n",
    "# result---> name of student 'syam' , his total marks 70+60 = 130\n",
    "# output name: 'syam', marks: 130"
   ]
  },
  {
   "cell_type": "code",
   "execution_count": null,
   "metadata": {},
   "outputs": [],
   "source": []
  },
  {
   "cell_type": "markdown",
   "metadata": {},
   "source": [
    "**print the student names based on total marks (descending order)**\n",
    "\n",
    "output\n",
    "```\n",
    "syam\n",
    "ram\n",
    "divya\n",
    "```"
   ]
  },
  {
   "cell_type": "code",
   "execution_count": 16,
   "metadata": {},
   "outputs": [],
   "source": [
    "students = (('ram',50,60),('syam',70,60),('divya',40,30))\n"
   ]
  },
  {
   "cell_type": "code",
   "execution_count": null,
   "metadata": {},
   "outputs": [],
   "source": []
  }
 ],
 "metadata": {
  "kernelspec": {
   "display_name": "Python 3",
   "language": "python",
   "name": "python3"
  },
  "language_info": {
   "codemirror_mode": {
    "name": "ipython",
    "version": 3
   },
   "file_extension": ".py",
   "mimetype": "text/x-python",
   "name": "python",
   "nbconvert_exporter": "python",
   "pygments_lexer": "ipython3",
   "version": "3.7.4"
  }
 },
 "nbformat": 4,
 "nbformat_minor": 2
}

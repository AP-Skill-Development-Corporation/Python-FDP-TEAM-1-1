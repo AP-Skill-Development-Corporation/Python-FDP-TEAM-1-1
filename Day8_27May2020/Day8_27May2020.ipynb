{
 "cells": [
  {
   "cell_type": "markdown",
   "metadata": {},
   "source": [
    "## Good Morning To All\n",
    "\n",
    "## List Comprehension\n",
    "## Dictionary Comprehension\n",
    "## Set Comprehension\n",
    "## Sending mail using Python\n",
    "\n"
   ]
  },
  {
   "cell_type": "code",
   "execution_count": 1,
   "metadata": {},
   "outputs": [],
   "source": [
    "# List Compresion\n",
    "# create the new list based on existing the lists\n",
    "l=[1,2,3,4]\n",
    "\n"
   ]
  },
  {
   "cell_type": "code",
   "execution_count": 2,
   "metadata": {},
   "outputs": [
    {
     "name": "stdout",
     "output_type": "stream",
     "text": [
      "[1, 4, 9, 16, 25]\n"
     ]
    }
   ],
   "source": [
    "# create a new list Square of every number in given list using Normal list\n",
    "s=[]\n",
    "for item in [1,2,3,4,5]:\n",
    "    num = item*item\n",
    "    s.append(num)\n",
    "print(s)"
   ]
  },
  {
   "cell_type": "code",
   "execution_count": 3,
   "metadata": {},
   "outputs": [
    {
     "data": {
      "text/plain": [
       "[4, 9, 16, 25]"
      ]
     },
     "execution_count": 3,
     "metadata": {},
     "output_type": "execute_result"
    }
   ],
   "source": [
    "# create a new list Square of every number in given list using list comprehension\n",
    "# syntax[ouputExpression looping condition]\n",
    "[item*item for item in [2,3,4,5]]"
   ]
  },
  {
   "cell_type": "code",
   "execution_count": 6,
   "metadata": {},
   "outputs": [
    {
     "data": {
      "text/plain": [
       "[(1, '*', 2, '=', 2),\n",
       " (2, '*', 2, '=', 4),\n",
       " (3, '*', 2, '=', 6),\n",
       " (4, '*', 2, '=', 8),\n",
       " (5, '*', 2, '=', 10),\n",
       " (6, '*', 2, '=', 12),\n",
       " (7, '*', 2, '=', 14),\n",
       " (8, '*', 2, '=', 16),\n",
       " (9, '*', 2, '=', 18),\n",
       " (10, '*', 2, '=', 20)]"
      ]
     },
     "execution_count": 6,
     "metadata": {},
     "output_type": "execute_result"
    }
   ],
   "source": [
    "# print the Multiplication table using list comprehension\n",
    "[(i,'*',2,'=',i*2)for i in range(1,10+1)]"
   ]
  },
  {
   "cell_type": "code",
   "execution_count": 11,
   "metadata": {},
   "outputs": [
    {
     "data": {
      "text/plain": [
       "['p', 'a', 's', 's', 'w', 'o', 'r', 'd']"
      ]
     },
     "execution_count": 11,
     "metadata": {},
     "output_type": "execute_result"
    }
   ],
   "source": [
    "# find the sum of digits in given string using list comprehension\n",
    "s=\"password@123\"\n",
    "[i for i in s if i.isalpha()]\n"
   ]
  },
  {
   "cell_type": "code",
   "execution_count": 15,
   "metadata": {},
   "outputs": [
    {
     "data": {
      "text/plain": [
       "[(1, 'odd'),\n",
       " (2, 'Even'),\n",
       " (3, 'odd'),\n",
       " (4, 'Even'),\n",
       " (5, 'odd'),\n",
       " (6, 'Even'),\n",
       " (7, 'odd'),\n",
       " (8, 'Even'),\n",
       " (9, 'odd'),\n",
       " (10, 'Even')]"
      ]
     },
     "execution_count": 15,
     "metadata": {},
     "output_type": "execute_result"
    }
   ],
   "source": [
    "# Print the numbers to even or odd numbers using list comprehension\n",
    "[(i,\"Even\") if i%2==0 else (i,\"odd\") for i in range(1,10+1)]"
   ]
  },
  {
   "cell_type": "code",
   "execution_count": 17,
   "metadata": {},
   "outputs": [
    {
     "data": {
      "text/plain": [
       "[1996, 2000, 2004, 2008, 2012, 2016, 2020]"
      ]
     },
     "execution_count": 17,
     "metadata": {},
     "output_type": "execute_result"
    }
   ],
   "source": [
    "# Print the given range in leapyears using list comprehension\n",
    "[year for year in range(1995,2020+1)if year%4==0 and year%100!=0 or year%400==0 ]"
   ]
  },
  {
   "cell_type": "code",
   "execution_count": 18,
   "metadata": {},
   "outputs": [],
   "source": [
    "def leapyear(year):\n",
    "    if year%4==0 and year%100!=0 or year%400==0:\n",
    "        print(year)\n",
    "\n",
    "    "
   ]
  },
  {
   "cell_type": "code",
   "execution_count": 19,
   "metadata": {},
   "outputs": [
    {
     "name": "stdout",
     "output_type": "stream",
     "text": [
      "1996\n",
      "2000\n"
     ]
    },
    {
     "data": {
      "text/plain": [
       "[None, None, None, None, None, None]"
      ]
     },
     "execution_count": 19,
     "metadata": {},
     "output_type": "execute_result"
    }
   ],
   "source": [
    "[leapyear(year) for year in range(1995,2000+1)]"
   ]
  },
  {
   "cell_type": "code",
   "execution_count": 21,
   "metadata": {},
   "outputs": [
    {
     "data": {
      "text/plain": [
       "['one', 'has']"
      ]
     },
     "execution_count": 21,
     "metadata": {},
     "output_type": "execute_result"
    }
   ],
   "source": [
    "# Create a words list only contains 3 characters from the given sentence\n",
    "sentence = \"Every one has story\"\n",
    "[word for word in sentence.split() if len(word)==3]\n",
    "## Outpt - one,has"
   ]
  },
  {
   "cell_type": "code",
   "execution_count": null,
   "metadata": {},
   "outputs": [],
   "source": [
    "## Dictionary Comprehension\n",
    "## syntax {key:value for item in collectionvalues}"
   ]
  },
  {
   "cell_type": "code",
   "execution_count": 22,
   "metadata": {},
   "outputs": [
    {
     "data": {
      "text/plain": [
       "{1: 1, 2: 4, 3: 9, 4: 16, 5: 25, 6: 36, 7: 49, 8: 64, 9: 81, 10: 100}"
      ]
     },
     "execution_count": 22,
     "metadata": {},
     "output_type": "execute_result"
    }
   ],
   "source": [
    "# Create a dictionary contains square of numbers from 1 to 10\n",
    "{item:item**2 for item in range(1,11)}"
   ]
  },
  {
   "cell_type": "code",
   "execution_count": 24,
   "metadata": {},
   "outputs": [
    {
     "data": {
      "text/plain": [
       "{'P': 2,\n",
       " 'y': 1,\n",
       " 't': 1,\n",
       " 'h': 1,\n",
       " 'o': 2,\n",
       " 'n': 2,\n",
       " ' ': 1,\n",
       " 'r': 2,\n",
       " 'g': 2,\n",
       " 'a': 1,\n",
       " 'm': 2,\n",
       " 'i': 1}"
      ]
     },
     "execution_count": 24,
     "metadata": {},
     "output_type": "execute_result"
    }
   ],
   "source": [
    "# create a dictionary of character frequency in given string\n",
    "name = \"Python Programming\"\n",
    "{i:name.count(i) for i in name}"
   ]
  },
  {
   "cell_type": "code",
   "execution_count": 25,
   "metadata": {},
   "outputs": [
    {
     "data": {
      "text/plain": [
       "{'apple': 2, 'orange': 1, 'banana': 1}"
      ]
     },
     "execution_count": 25,
     "metadata": {},
     "output_type": "execute_result"
    }
   ],
   "source": [
    "# find the frequency of fruits in given list\n",
    "fruits = ['apple','orange','apple','banana']\n",
    "{fruit:fruits.count(fruit) for fruit in fruits}"
   ]
  },
  {
   "cell_type": "code",
   "execution_count": 28,
   "metadata": {},
   "outputs": [
    {
     "data": {
      "text/plain": [
       "{'a', 'd', 'o', 'p', 'r', 's', 'w'}"
      ]
     },
     "execution_count": 28,
     "metadata": {},
     "output_type": "execute_result"
    }
   ],
   "source": [
    "# Set Comprehension\n",
    "# syntax {ouputexp forloop condition }\n",
    "# Find the unique characters in given string\n",
    "name=\"password\"\n",
    "{char for char in name}"
   ]
  },
  {
   "cell_type": "code",
   "execution_count": 29,
   "metadata": {},
   "outputs": [
    {
     "data": {
      "text/plain": [
       "{'apple', 'banana', 'orange'}"
      ]
     },
     "execution_count": 29,
     "metadata": {},
     "output_type": "execute_result"
    }
   ],
   "source": [
    "# find the unique items in given list\n",
    "fruits = ['apple','orange','apple','banana']\n",
    "{item for item in fruits}"
   ]
  },
  {
   "cell_type": "code",
   "execution_count": 30,
   "metadata": {},
   "outputs": [],
   "source": [
    "# find the numbers even or odd using dictionary compresions\n",
    "def isEven(num):\n",
    "    if num%2==0:\n",
    "        return \"Even\"\n",
    "    return \"Odd\"\n"
   ]
  },
  {
   "cell_type": "code",
   "execution_count": 33,
   "metadata": {},
   "outputs": [
    {
     "name": "stdout",
     "output_type": "stream",
     "text": [
      "20\n"
     ]
    },
    {
     "data": {
      "text/plain": [
       "{1: 'Odd',\n",
       " 2: 'Even',\n",
       " 3: 'Odd',\n",
       " 4: 'Even',\n",
       " 5: 'Odd',\n",
       " 6: 'Even',\n",
       " 7: 'Odd',\n",
       " 8: 'Even',\n",
       " 9: 'Odd',\n",
       " 10: 'Even',\n",
       " 11: 'Odd',\n",
       " 12: 'Even',\n",
       " 13: 'Odd',\n",
       " 14: 'Even',\n",
       " 15: 'Odd',\n",
       " 16: 'Even',\n",
       " 17: 'Odd',\n",
       " 18: 'Even',\n",
       " 19: 'Odd',\n",
       " 20: 'Even'}"
      ]
     },
     "execution_count": 33,
     "metadata": {},
     "output_type": "execute_result"
    }
   ],
   "source": [
    "n=int(input())\n",
    "{i:isEven(i) for i in range(1,n+1)}"
   ]
  },
  {
   "cell_type": "code",
   "execution_count": null,
   "metadata": {},
   "outputs": [],
   "source": [
    "# Sending mail to Gmail Account\n",
    "# first of all importing module \"smtplib\"\n",
    "def sendmail():\n",
    "    send=int(input(\"how many friends to send email:\\n\"))\n",
    "    friends=[]\n",
    "    emails = []\n",
    "    message = input(\"enter message to send:\\n\")\n",
    "    if send!=0:\n",
    "        for s in range(0,send):\n",
    "            name = input(\"enter name\")\n",
    "            friends.append(name)\n",
    "            email = input(\"enter email\")\n",
    "            emails.append(email)\n",
    "    import smtplib#simple mail transfer protocol library\n",
    "    server = smtplib.SMTP(\"smtp.gmail.com\",587)\n",
    "    server.starttls() # transport layer security\n",
    "    server.login(\"ravisastry.b@apssdc.in\",\"##\")\n",
    "    for friend in range(0,len(friends)):\n",
    "        print(message,\":\",friends[friend],\":\",emails[friend])\n",
    "        server.sendmail(\"ravisastry.b@apssdc.in\",emails[friend],message)\n",
    "    server.quit()\n",
    "sendmail()"
   ]
  },
  {
   "cell_type": "code",
   "execution_count": 1,
   "metadata": {},
   "outputs": [
    {
     "name": "stderr",
     "output_type": "stream",
     "text": [
      "C:\\Users\\ravi sastry\\Anaconda3\\lib\\site-packages\\ipykernel\\parentpoller.py:116: UserWarning: Parent poll failed.  If the frontend dies,\n",
      "                the kernel may be left running.  Please let us know\n",
      "                about your system (bitness, Python, etc.) at\n",
      "                ipython-dev@scipy.org\n",
      "  ipython-dev@scipy.org\"\"\")\n"
     ]
    },
    {
     "data": {
      "text/plain": [
       "'Wed May 27 11:47:37 2020'"
      ]
     },
     "execution_count": 1,
     "metadata": {},
     "output_type": "execute_result"
    }
   ],
   "source": [
    "# Take a break program using python\n",
    "import time \n",
    "time.ctime()"
   ]
  },
  {
   "cell_type": "code",
   "execution_count": 2,
   "metadata": {},
   "outputs": [
    {
     "name": "stdout",
     "output_type": "stream",
     "text": [
      "Wed May 27 11:49:44 2020 0\n",
      "Wed May 27 11:49:54 2020 1\n",
      "Wed May 27 11:50:04 2020 2\n",
      "Wed May 27 11:50:14 2020 3\n",
      "Wed May 27 11:50:24 2020 4\n",
      "Wed May 27 11:50:34 2020 5\n",
      "Wed May 27 11:50:44 2020 6\n",
      "Wed May 27 11:50:54 2020 7\n",
      "Wed May 27 11:51:04 2020 8\n",
      "Wed May 27 11:51:14 2020 9\n"
     ]
    }
   ],
   "source": [
    "#time.sleep(5)\n",
    "import time\n",
    "for i in range(10):\n",
    "    time.sleep(10)\n",
    "    print(time.ctime(),i)"
   ]
  },
  {
   "cell_type": "code",
   "execution_count": 4,
   "metadata": {},
   "outputs": [
    {
     "data": {
      "text/plain": [
       "True"
      ]
     },
     "execution_count": 4,
     "metadata": {},
     "output_type": "execute_result"
    }
   ],
   "source": [
    "import webbrowser\n",
    "webbrowser.open(\"http://www.google.com\")"
   ]
  },
  {
   "cell_type": "code",
   "execution_count": 5,
   "metadata": {},
   "outputs": [],
   "source": [
    "import time\n",
    "import webbrowser\n",
    "totalbreaks=4\n",
    "count=0\n",
    "while count<=totalbreaks:\n",
    "    time.sleep(1*60*60)\n",
    "    if count==1:\n",
    "        webbrowser.open(\"http://github.com\")\n",
    "    elif count==2:\n",
    "        webbrowser.open(\"http://facebook.com\")\n",
    "    elif count==3:\n",
    "        webbrowser.open(\"http://gmail.com\")\n",
    "    elif count==4:\n",
    "        webbrowser.open(\"http://engineering.apssdc.in\")\n",
    "    count+=1"
   ]
  },
  {
   "cell_type": "code",
   "execution_count": null,
   "metadata": {},
   "outputs": [],
   "source": []
  }
 ],
 "metadata": {
  "kernelspec": {
   "display_name": "Python 3",
   "language": "python",
   "name": "python3"
  },
  "language_info": {
   "codemirror_mode": {
    "name": "ipython",
    "version": 3
   },
   "file_extension": ".py",
   "mimetype": "text/x-python",
   "name": "python",
   "nbconvert_exporter": "python",
   "pygments_lexer": "ipython3",
   "version": "3.7.0"
  }
 },
 "nbformat": 4,
 "nbformat_minor": 2
}

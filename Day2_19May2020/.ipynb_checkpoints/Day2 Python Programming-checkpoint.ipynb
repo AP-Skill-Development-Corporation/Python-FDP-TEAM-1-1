{
 "cells": [
  {
   "cell_type": "code",
   "execution_count": null,
   "metadata": {},
   "outputs": [],
   "source": [
    "print(\"Hello World\")"
   ]
  },
  {
   "cell_type": "markdown",
   "metadata": {},
   "source": [
    "# This is Python Programming in Jupyner Notebook\n"
   ]
  },
  {
   "cell_type": "markdown",
   "metadata": {},
   "source": [
    "<h1>Hello World<h1>"
   ]
  },
  {
   "cell_type": "code",
   "execution_count": null,
   "metadata": {},
   "outputs": [],
   "source": []
  },
  {
   "cell_type": "code",
   "execution_count": null,
   "metadata": {},
   "outputs": [],
   "source": []
  },
  {
   "cell_type": "markdown",
   "metadata": {},
   "source": [
    "## Shiht - Enter - will executes the selected cell\n",
    "## Esc --> a - inserts one empty cell above the current cell\n",
    "## Esc --> b - inserts one empty cell below the current cell\n",
    "## Esc --> m - converts code cell into markdown cell\n",
    "## Esc --> y - converts markdown cell into code cell\n",
    "## Esc --> dd - delets the selected cell\n",
    "## Esc --> p - will displays all the shortcuts avaliable in jupyter"
   ]
  },
  {
   "cell_type": "code",
   "execution_count": null,
   "metadata": {},
   "outputs": [],
   "source": []
  },
  {
   "cell_type": "markdown",
   "metadata": {},
   "source": [
    "## Introduction python\n",
    "## list of keywords\n",
    "## Operators in python\n",
    "## Type conversion"
   ]
  },
  {
   "cell_type": "markdown",
   "metadata": {},
   "source": [
    "## Conditional Statements on Python\n",
    "## Loops in Python\n",
    "## String"
   ]
  },
  {
   "cell_type": "markdown",
   "metadata": {},
   "source": [
    "## Conditional Statements on Python\n",
    " "
   ]
  },
  {
   "cell_type": "markdown",
   "metadata": {},
   "source": [
    "### syntax\n",
    "```\n",
    "if condition:\n",
    "    statement1\n",
    "    statement2\n",
    "    statementn\n",
    "```"
   ]
  },
  {
   "cell_type": "markdown",
   "metadata": {},
   "source": [
    "```\n",
    "if (condition)\n",
    "{\n",
    "statement1\n",
    "statement2\n",
    ".\n",
    ".\n",
    ".\n",
    ".\n",
    ".\n",
    ".\n",
    "statenmentn\n",
    "}\n",
    "```"
   ]
  },
  {
   "cell_type": "code",
   "execution_count": 4,
   "metadata": {},
   "outputs": [
    {
     "name": "stdout",
     "output_type": "stream",
     "text": [
      "X is having value of 5\n"
     ]
    }
   ],
   "source": [
    "x = 5\n",
    "if x == 5:\n",
    "    print(\"X is having value of 5\")"
   ]
  },
  {
   "cell_type": "code",
   "execution_count": 5,
   "metadata": {},
   "outputs": [
    {
     "name": "stdout",
     "output_type": "stream",
     "text": [
      "X is not equal to 5\n"
     ]
    }
   ],
   "source": [
    "x = 10\n",
    "if x == 5:\n",
    "    print(\"X is having value of 5\")\n",
    "    print(\"X is equal to 5\")\n",
    "else:\n",
    "    print(\"X is not equal to 5\")"
   ]
  },
  {
   "cell_type": "markdown",
   "metadata": {},
   "source": [
    "```\n",
    "if condition:\n",
    "    statement1\n",
    "    statement2\n",
    "elif condition:\n",
    "    statement1\n",
    "    statement2\n",
    "else:\n",
    "    statement1\n",
    "    statement2\n",
    "```"
   ]
  },
  {
   "cell_type": "code",
   "execution_count": 6,
   "metadata": {},
   "outputs": [
    {
     "name": "stdout",
     "output_type": "stream",
     "text": [
      "C is the largest\n"
     ]
    }
   ],
   "source": [
    "a = 5\n",
    "b = 10\n",
    "c = 15\n",
    "if a > b and a >c:\n",
    "    print(\"a is largest number\")\n",
    "elif b > c:\n",
    "    print('b is largest')\n",
    "else:\n",
    "    print(\"C is the largest\")"
   ]
  },
  {
   "cell_type": "markdown",
   "metadata": {},
   "source": [
    "## input() --> used to take the input from the user"
   ]
  },
  {
   "cell_type": "code",
   "execution_count": 7,
   "metadata": {},
   "outputs": [
    {
     "name": "stdout",
     "output_type": "stream",
     "text": [
      "123\n"
     ]
    }
   ],
   "source": [
    "inp = input()"
   ]
  },
  {
   "cell_type": "code",
   "execution_count": 8,
   "metadata": {},
   "outputs": [
    {
     "name": "stdout",
     "output_type": "stream",
     "text": [
      "123\n"
     ]
    }
   ],
   "source": [
    "print(inp)"
   ]
  },
  {
   "cell_type": "code",
   "execution_count": 9,
   "metadata": {},
   "outputs": [
    {
     "name": "stdout",
     "output_type": "stream",
     "text": [
      "<class 'str'>\n"
     ]
    }
   ],
   "source": [
    "print(type(inp))"
   ]
  },
  {
   "cell_type": "code",
   "execution_count": 10,
   "metadata": {},
   "outputs": [
    {
     "name": "stdout",
     "output_type": "stream",
     "text": [
      "777\n",
      "777 <class 'int'>\n"
     ]
    }
   ],
   "source": [
    "inp = int(input())\n",
    "print(inp, type(inp))"
   ]
  },
  {
   "cell_type": "code",
   "execution_count": 11,
   "metadata": {},
   "outputs": [
    {
     "name": "stdout",
     "output_type": "stream",
     "text": [
      "132\n",
      "123\n"
     ]
    }
   ],
   "source": [
    "a = input()\n",
    "b = input()"
   ]
  },
  {
   "cell_type": "code",
   "execution_count": 12,
   "metadata": {},
   "outputs": [
    {
     "name": "stdout",
     "output_type": "stream",
     "text": [
      "Enter a value123\n",
      "Enter b value325\n"
     ]
    }
   ],
   "source": [
    "a = input('Enter a value')\n",
    "b = input('Enter b value')"
   ]
  },
  {
   "cell_type": "code",
   "execution_count": 13,
   "metadata": {},
   "outputs": [
    {
     "name": "stdout",
     "output_type": "stream",
     "text": [
      "123 325\n"
     ]
    }
   ],
   "source": [
    "print(a,b)"
   ]
  },
  {
   "cell_type": "code",
   "execution_count": 14,
   "metadata": {},
   "outputs": [
    {
     "name": "stdout",
     "output_type": "stream",
     "text": [
      "<class 'str'> <class 'str'>\n"
     ]
    }
   ],
   "source": [
    "print(type(a), type(b))"
   ]
  },
  {
   "cell_type": "code",
   "execution_count": 15,
   "metadata": {},
   "outputs": [
    {
     "name": "stdout",
     "output_type": "stream",
     "text": [
      "<class 'int'>\n"
     ]
    }
   ],
   "source": [
    "print(type(inp))"
   ]
  },
  {
   "cell_type": "code",
   "execution_count": 16,
   "metadata": {},
   "outputs": [
    {
     "name": "stdout",
     "output_type": "stream",
     "text": [
      "Hello World Hello World2\n"
     ]
    }
   ],
   "source": [
    "print(\"Hello World\", 'Hello World2')"
   ]
  },
  {
   "cell_type": "code",
   "execution_count": 17,
   "metadata": {},
   "outputs": [
    {
     "name": "stdout",
     "output_type": "stream",
     "text": [
      "Hello World\n",
      "Hello World2\n"
     ]
    }
   ],
   "source": [
    "print(\"Hello World\", 'Hello World2', sep = '\\n')"
   ]
  },
  {
   "cell_type": "code",
   "execution_count": 18,
   "metadata": {},
   "outputs": [
    {
     "name": "stdout",
     "output_type": "stream",
     "text": [
      "Hello World\tHello World2\n"
     ]
    }
   ],
   "source": [
    "print(\"Hello World\", 'Hello World2', sep = '\\t')"
   ]
  },
  {
   "cell_type": "code",
   "execution_count": 19,
   "metadata": {},
   "outputs": [
    {
     "name": "stdout",
     "output_type": "stream",
     "text": [
      "Hello World****Hello World2\n"
     ]
    }
   ],
   "source": [
    "print(\"Hello World\", 'Hello World2', sep = '****')"
   ]
  },
  {
   "cell_type": "code",
   "execution_count": 20,
   "metadata": {},
   "outputs": [
    {
     "name": "stdout",
     "output_type": "stream",
     "text": [
      "a value is 5\n",
      "b value is  10\n",
      "Enter c value10\n",
      "c value is 10\n"
     ]
    }
   ],
   "source": [
    "a = 5\n",
    "b = 10\n",
    "print(\"a value is\",a)\n",
    "print(\"b value is \",b)\n",
    "print(\"c value is\",input(\"Enter c value\"))"
   ]
  },
  {
   "cell_type": "code",
   "execution_count": 27,
   "metadata": {},
   "outputs": [
    {
     "name": "stdout",
     "output_type": "stream",
     "text": [
      "45665\n",
      "Value is 45665 using format\n"
     ]
    }
   ],
   "source": [
    "a = int(input())\n",
    "print(\"Value is {} using format\".format(a))"
   ]
  },
  {
   "cell_type": "code",
   "execution_count": 23,
   "metadata": {},
   "outputs": [
    {
     "name": "stdout",
     "output_type": "stream",
     "text": [
      "Value is 10 using format 20 another is\n"
     ]
    }
   ],
   "source": [
    "print(\"Value is {} using format {} another is\".format(10,20))"
   ]
  },
  {
   "cell_type": "code",
   "execution_count": 29,
   "metadata": {},
   "outputs": [
    {
     "name": "stdout",
     "output_type": "stream",
     "text": [
      "Value is 10 using format 20 another is same firt value 10\n"
     ]
    }
   ],
   "source": [
    "print(\"Value is {0} using format {1} another is same firt value {0}\".format(10,20))"
   ]
  },
  {
   "cell_type": "code",
   "execution_count": 33,
   "metadata": {},
   "outputs": [
    {
     "name": "stdout",
     "output_type": "stream",
     "text": [
      "Value is 10.00759 using format 20 another is same firt value 10.00759\n"
     ]
    }
   ],
   "source": [
    "print(\"Value is {0} using format {1} another is same firt value {0}\".format(10.00759,20))"
   ]
  },
  {
   "cell_type": "markdown",
   "metadata": {},
   "source": [
    "### Loops in Python"
   ]
  },
  {
   "cell_type": "markdown",
   "metadata": {},
   "source": [
    "one thing multiple times"
   ]
  },
  {
   "cell_type": "markdown",
   "metadata": {},
   "source": [
    "1. instialize\n",
    "2. condition\n",
    "3. increment/decrement"
   ]
  },
  {
   "cell_type": "markdown",
   "metadata": {},
   "source": [
    "## 1. for\n",
    "## 2. while\n",
    "### Syntax for `for`  loop\n",
    "```\n",
    "for interate_variable in groupOfElements:\n",
    "    statement1\n",
    "    stetement2\n",
    "    statement3\n",
    "```"
   ]
  },
  {
   "cell_type": "code",
   "execution_count": 43,
   "metadata": {},
   "outputs": [
    {
     "name": "stdout",
     "output_type": "stream",
     "text": [
      "0-0 1-2 2-4 3-6 4-8 5-10 6-12 7-14 8-16 9-18 "
     ]
    }
   ],
   "source": [
    "for i in range(10):\n",
    "    print(i, i*2,end = ' ', sep='-')"
   ]
  },
  {
   "cell_type": "code",
   "execution_count": 44,
   "metadata": {},
   "outputs": [
    {
     "name": "stdout",
     "output_type": "stream",
     "text": [
      "5 6 7 8 9 10 11 12 13 14 15 16 17 18 19 20 21 22 23 24 25 26 27 28 29 30 31 32 33 34 35 36 37 38 39 40 41 42 43 44 45 46 47 48 49 "
     ]
    }
   ],
   "source": [
    "for i in range(5, 50):\n",
    "    print(i,end = \" \")"
   ]
  },
  {
   "cell_type": "code",
   "execution_count": 45,
   "metadata": {},
   "outputs": [
    {
     "name": "stdout",
     "output_type": "stream",
     "text": [
      "5 7 9 11 13 15 17 19 21 23 25 27 29 31 33 35 37 39 41 43 45 47 49 "
     ]
    }
   ],
   "source": [
    "for i in range(5, 50, 2):\n",
    "    print(i,end = \" \")"
   ]
  },
  {
   "cell_type": "code",
   "execution_count": null,
   "metadata": {},
   "outputs": [],
   "source": [
    "`m"
   ]
  },
  {
   "cell_type": "code",
   "execution_count": 51,
   "metadata": {
    "scrolled": true
   },
   "outputs": [
    {
     "name": "stdout",
     "output_type": "stream",
     "text": [
      "0\n",
      "1 2 3 4 5 6 7 8 9 10\n",
      "11 12 13 14 15 16 17 18 19 20\n",
      "21 22 23 24 25 26 27 28 29 30\n",
      "31 32 33 34 35 36 37 38 39 40\n",
      "41 42 43 44 45 46 47 48 49 50\n"
     ]
    }
   ],
   "source": [
    "initial = 0\n",
    "incren=ment = 1\n",
    "cond = 1 < 51\n",
    "for i in range(0, 51):\n",
    "    if i % 10 == 0:\n",
    "        print(i)\n",
    "    else:\n",
    "        print(i,end = \" \")\n",
    "        "
   ]
  },
  {
   "cell_type": "markdown",
   "metadata": {},
   "source": [
    "range(initial_value, var > condition, incre/decrement)"
   ]
  },
  {
   "cell_type": "code",
   "execution_count": 50,
   "metadata": {},
   "outputs": [
    {
     "name": "stdout",
     "output_type": "stream",
     "text": [
      "100 98 96 94 92 90 88 86 84 82 80 78 76 74 72 70 68 66 64 62 60 58 56 54 52 50 48 46 44 42 40 38 36 34 32 30 28 26 24 22 20 18 16 14 12 10 8 6 4 2 "
     ]
    }
   ],
   "source": [
    "for j in range(100 , 1, -2):\n",
    "    print(j, end = ' ')"
   ]
  },
  {
   "cell_type": "code",
   "execution_count": 56,
   "metadata": {},
   "outputs": [],
   "source": [
    "s1 = 'Hello'\n",
    "s2 = \"World\"\n",
    "s3 = '''Hello\n",
    "world\n",
    "again'''\n",
    "\n",
    "s4 = \"\"\"worlds\n",
    "hello\n",
    "again\n",
    "and\n",
    "again\"\"\""
   ]
  },
  {
   "cell_type": "code",
   "execution_count": null,
   "metadata": {},
   "outputs": [],
   "source": []
  },
  {
   "cell_type": "code",
   "execution_count": 55,
   "metadata": {
    "collapsed": true
   },
   "outputs": [
    {
     "name": "stdout",
     "output_type": "stream",
     "text": [
      "H\n",
      "e\n",
      "l\n",
      "l\n",
      "o\n",
      " \n",
      "W\n",
      "o\n",
      "r\n",
      "l\n",
      "d\n"
     ]
    }
   ],
   "source": [
    "s = 'Hello World'\n",
    "for char in s:\n",
    "    print(char)"
   ]
  },
  {
   "cell_type": "code",
   "execution_count": 57,
   "metadata": {},
   "outputs": [
    {
     "name": "stdout",
     "output_type": "stream",
     "text": [
      "ldsnkv\n",
      "6546\n",
      "sfds\n",
      "fds\n",
      "scd\n"
     ]
    }
   ],
   "source": [
    "li = ['ldsnkv',6546,'sfds','fds','scd']\n",
    "for element in li:\n",
    "    print(element)"
   ]
  },
  {
   "cell_type": "markdown",
   "metadata": {},
   "source": [
    "### While loop in python\n",
    "\n",
    "```\n",
    "i = 0\n",
    "while condition:\n",
    "    statement1\n",
    "    statement2\n",
    "    statement3\n",
    "        .\n",
    "        .\n",
    "        .\n",
    "        .\n",
    "    statementn\n",
    "    increment/decrement\n",
    "```"
   ]
  },
  {
   "cell_type": "code",
   "execution_count": 60,
   "metadata": {
    "collapsed": true
   },
   "outputs": [
    {
     "name": "stdout",
     "output_type": "stream",
     "text": [
      "0\n",
      "1\n",
      "2\n",
      "3\n",
      "4\n",
      "5\n",
      "6\n",
      "7\n",
      "8\n",
      "9\n",
      "10\n"
     ]
    }
   ],
   "source": [
    "i = 0\n",
    "while i < 11:\n",
    "    print(i)\n",
    "    i += 1"
   ]
  },
  {
   "cell_type": "markdown",
   "metadata": {},
   "source": [
    "1. break --> if we stop the execution of he loop\n",
    "2. continue --> if we stop current iteration of the loop"
   ]
  },
  {
   "cell_type": "code",
   "execution_count": 63,
   "metadata": {
    "collapsed": true
   },
   "outputs": [
    {
     "name": "stdout",
     "output_type": "stream",
     "text": [
      "1 3 5 7 9 "
     ]
    }
   ],
   "source": [
    "for i in range(1, 11, 1):\n",
    "    if i % 2 == 0:\n",
    "        continue\n",
    "    else:\n",
    "        print(i, end = ' ')"
   ]
  },
  {
   "cell_type": "code",
   "execution_count": 65,
   "metadata": {
    "collapsed": true
   },
   "outputs": [
    {
     "name": "stdout",
     "output_type": "stream",
     "text": [
      "1\n",
      "2\n",
      "3\n",
      "4\n",
      "Fault occurred\n"
     ]
    }
   ],
   "source": [
    "for i in range(1, 11, 1):\n",
    "    if i == 5:\n",
    "        print(\"Fault occurred\")\n",
    "        break\n",
    "    else:\n",
    "        print(i)"
   ]
  },
  {
   "cell_type": "markdown",
   "metadata": {},
   "source": [
    "### simple calculator"
   ]
  },
  {
   "cell_type": "code",
   "execution_count": 1,
   "metadata": {},
   "outputs": [
    {
     "name": "stdout",
     "output_type": "stream",
     "text": [
      "please give number10\n",
      "please give another number20\n",
      "give 1 for addition\n",
      " give 2 for sub \n",
      " give 3 for multiplicatin \n",
      " give 4 for div1\n",
      "addition of 10 and 20 = 30\n"
     ]
    }
   ],
   "source": [
    "num1 = int(input('please give number'))\n",
    "num2 = int(input('please give another number'))\n",
    "op = int(\n",
    "    input('give 1 for addition\\n give 2 for sub \\n give 3 for multiplicatin \\n give 4 for div')\n",
    ")\n",
    "\n",
    "if op == 1:\n",
    "    print(\"addition of {} and {} = {}\".format(num1,num2,num1+num2))\n",
    "elif op==2:\n",
    "    print(\"sub of{} and {} = {}\".format(num1,num2,num1-num2))\n",
    "elif op == 3:\n",
    "    print(\"multiplication of {} and {} = {}\".format(num1, num2, num1*num2))\n",
    "elif op == 4:\n",
    "    if num2!= 0:\n",
    "        print(\"division of {} and {} = {}\".format(num1,num2,num1/num2))\n",
    "    else:\n",
    "        print(\"ZeroDivisionError\")\n",
    "else:\n",
    "    print(\"You are selected wrong option\")"
   ]
  },
  {
   "cell_type": "markdown",
   "metadata": {},
   "source": [
    "### simple another task\n",
    "\n",
    "implement calculator to perform add/sub/mul/div  everytime"
   ]
  },
  {
   "cell_type": "code",
   "execution_count": 2,
   "metadata": {},
   "outputs": [
    {
     "name": "stdout",
     "output_type": "stream",
     "text": [
      "1000\n"
     ]
    }
   ],
   "source": [
    "while True:\n",
    "    print(\"1000\")\n",
    "    break"
   ]
  },
  {
   "cell_type": "markdown",
   "metadata": {},
   "source": [
    "### to open notebook file in our system\n",
    "1. download the .ipynb file into current working directory\n",
    "2. Open the notebook software and move to the current working directory\n",
    "3. open the downloaded file and verify name should endwith '.ipynb' if not rename\n",
    "4. reopen the file."
   ]
  },
  {
   "cell_type": "code",
   "execution_count": null,
   "metadata": {},
   "outputs": [],
   "source": []
  }
 ],
 "metadata": {
  "kernelspec": {
   "display_name": "Python 3",
   "language": "python",
   "name": "python3"
  },
  "language_info": {
   "codemirror_mode": {
    "name": "ipython",
    "version": 3
   },
   "file_extension": ".py",
   "mimetype": "text/x-python",
   "name": "python",
   "nbconvert_exporter": "python",
   "pygments_lexer": "ipython3",
   "version": "3.7.4"
  }
 },
 "nbformat": 4,
 "nbformat_minor": 2
}

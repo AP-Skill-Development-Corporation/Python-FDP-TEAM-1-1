{
 "cells": [
  {
   "cell_type": "markdown",
   "metadata": {},
   "source": [
    "**find the frequency of fruit in given fruits**\n"
   ]
  },
  {
   "cell_type": "code",
   "execution_count": 1,
   "metadata": {},
   "outputs": [],
   "source": [
    "fruits = ['apple','orange','apple','mango']\n",
    "\n",
    "# implement logic\n",
    "\n",
    "#output {'apple':2,'orange':1,'mango':1}"
   ]
  },
  {
   "cell_type": "code",
   "execution_count": null,
   "metadata": {},
   "outputs": [],
   "source": []
  },
  {
   "cell_type": "markdown",
   "metadata": {},
   "source": [
    "**find the duplicate fruits**\n",
    "\n",
    "fruits = ['apple','orange','apple','mango','mango']\n",
    "\n",
    "output\n",
    "```\n",
    "apple\n",
    "mango\n",
    "```"
   ]
  },
  {
   "cell_type": "code",
   "execution_count": 3,
   "metadata": {},
   "outputs": [],
   "source": [
    "fruits = ['apple','orange','apple','mango','mango']\n",
    "# implement logic"
   ]
  },
  {
   "cell_type": "markdown",
   "metadata": {},
   "source": [
    "**find how many digits and alphabets and special characters in given password**\n",
    "\n",
    "password = 'abc@123'\n",
    "\n",
    "output\n",
    "```\n",
    "  digits 3\n",
    "  alphabets 3\n",
    "  special charater 1\n",
    "```"
   ]
  },
  {
   "cell_type": "code",
   "execution_count": 4,
   "metadata": {},
   "outputs": [],
   "source": [
    "password = 'abc@123'\n",
    "\n",
    "# implement logic\n"
   ]
  },
  {
   "cell_type": "code",
   "execution_count": null,
   "metadata": {},
   "outputs": [],
   "source": []
  },
  {
   "cell_type": "markdown",
   "metadata": {},
   "source": [
    "**Implement the function to check given number isPrime or not**\n",
    "\n",
    "```\n",
    "test case 1\n",
    "        input    10\n",
    "        output   False\n",
    "\n",
    "test case 2\n",
    "        input    11\n",
    "        output True\n",
    "```\n"
   ]
  },
  {
   "cell_type": "code",
   "execution_count": null,
   "metadata": {},
   "outputs": [],
   "source": []
  },
  {
   "cell_type": "markdown",
   "metadata": {},
   "source": [
    "**Implement pattern to print the valid mobile numbers**\n",
    "\n",
    "mobile = ['9848022338','98480223381','1848022338','7848022338']\n",
    "\n",
    "output\n",
    "```\n",
    "    9848022338\n",
    "    7848022338\n",
    "```"
   ]
  },
  {
   "cell_type": "code",
   "execution_count": null,
   "metadata": {},
   "outputs": [],
   "source": []
  },
  {
   "cell_type": "markdown",
   "metadata": {},
   "source": [
    "**write a function to which return largest number by using given characters**\n",
    "\n",
    "example\n",
    "```\n",
    "test case 1\n",
    "        input \"today date 22May2020\"\n",
    "        \n",
    "        output 222200\n",
    "        \n",
    "test case 2\n",
    "        input   \"1 best book equal to 100 good friends but 1 good friend equal to 1 library\"\n",
    "    \n",
    "    \n",
    "        output  111100\n",
    "\n",
    "```"
   ]
  },
  {
   "cell_type": "markdown",
   "metadata": {},
   "source": []
  },
  {
   "cell_type": "code",
   "execution_count": null,
   "metadata": {},
   "outputs": [],
   "source": []
  },
  {
   "cell_type": "code",
   "execution_count": null,
   "metadata": {},
   "outputs": [],
   "source": []
  }
 ],
 "metadata": {
  "kernelspec": {
   "display_name": "Python 3",
   "language": "python",
   "name": "python3"
  },
  "language_info": {
   "codemirror_mode": {
    "name": "ipython",
    "version": 3
   },
   "file_extension": ".py",
   "mimetype": "text/x-python",
   "name": "python",
   "nbconvert_exporter": "python",
   "pygments_lexer": "ipython3",
   "version": "3.7.4"
  }
 },
 "nbformat": 4,
 "nbformat_minor": 2
}
